{
  "nbformat": 4,
  "nbformat_minor": 0,
  "metadata": {
    "colab": {
      "name": "Pricing for Revenue Optimization.ipynb",
      "provenance": [],
      "collapsed_sections": [],
      "include_colab_link": true
    },
    "kernelspec": {
      "display_name": "Python 3",
      "language": "python",
      "name": "python3"
    },
    "language_info": {
      "codemirror_mode": {
        "name": "ipython",
        "version": 3
      },
      "file_extension": ".py",
      "mimetype": "text/x-python",
      "name": "python",
      "nbconvert_exporter": "python",
      "pygments_lexer": "ipython3",
      "version": "3.7.4"
    }
  },
  "cells": [
    {
      "cell_type": "markdown",
      "metadata": {
        "id": "view-in-github",
        "colab_type": "text"
      },
      "source": [
        "<a href=\"https://colab.research.google.com/github/shivani1912/Priccing-Analytics/blob/master/Pricing_for_Revenue_Optimization.ipynb\" target=\"_parent\"><img src=\"https://colab.research.google.com/assets/colab-badge.svg\" alt=\"Open In Colab\"/></a>"
      ]
    },
    {
      "cell_type": "markdown",
      "metadata": {
        "id": "a_d1fpYgx9GW",
        "colab_type": "text"
      },
      "source": [
        "# Objective: Determine the optimal discount to be given to each client to maximize the revenue"
      ]
    },
    {
      "cell_type": "markdown",
      "metadata": {
        "id": "fpWecHTuywVz",
        "colab_type": "text"
      },
      "source": [
        "# Loading & Preparing the Dataset\n"
      ]
    },
    {
      "cell_type": "code",
      "metadata": {
        "id": "Ly9jG7ySPmGk",
        "colab_type": "code",
        "colab": {}
      },
      "source": [
        "import scipy\n",
        "import scipy.stats as stats\n",
        "from scipy.optimize import minimize_scalar\n",
        "from scipy.optimize import minimize"
      ],
      "execution_count": null,
      "outputs": []
    },
    {
      "cell_type": "code",
      "metadata": {
        "id": "N_WgBGaNyuDc",
        "colab_type": "code",
        "colab": {}
      },
      "source": [
        "import numpy as np\n",
        "import pandas as pd\n",
        "df = pd.read_csv('https://raw.githubusercontent.com/ormarketing/b2b/master/data.csv') "
      ],
      "execution_count": null,
      "outputs": []
    },
    {
      "cell_type": "code",
      "metadata": {
        "id": "RGWgzWLwyrA7",
        "colab_type": "code",
        "colab": {
          "base_uri": "https://localhost:8080/",
          "height": 87
        },
        "outputId": "e7ef4da9-6be0-44a4-f466-cfd858507772"
      },
      "source": [
        "df.columns"
      ],
      "execution_count": null,
      "outputs": [
        {
          "output_type": "execute_result",
          "data": {
            "text/plain": [
              "Index(['ID', 'Close Date', 'Created Date', 'New Logo', 'Type', 'Stage',\n",
              "       'Billing Plan', ' ACV ', ' Discount Amount ', ' Amount ',\n",
              "       ' Net Amount '],\n",
              "      dtype='object')"
            ]
          },
          "metadata": {
            "tags": []
          },
          "execution_count": 48
        }
      ]
    },
    {
      "cell_type": "code",
      "metadata": {
        "id": "y7MdIyjl2FiS",
        "colab_type": "code",
        "colab": {}
      },
      "source": [
        "#renaming created date & closed date columns for easier data wrangling\n",
        "df.rename(columns={'Created Date': 'Created_Date', 'Close Date': 'Close_Date'}, inplace=True)\n"
      ],
      "execution_count": null,
      "outputs": []
    },
    {
      "cell_type": "code",
      "metadata": {
        "id": "bzUSlfXJzRp7",
        "colab_type": "code",
        "colab": {}
      },
      "source": [
        "#splitting the date in month, day of the month for capturing seasonality trends\n",
        "df[['Month','Day_of_Month','Year']] = df.Created_Date.str.split(\"/\",expand=True) \n",
        "df['Month'] = np.array(df['Month'], dtype=np.int_)\n",
        "df['Day_of_Month'] = np.array(df['Day_of_Month'], dtype=np.int_)"
      ],
      "execution_count": null,
      "outputs": []
    },
    {
      "cell_type": "code",
      "metadata": {
        "id": "TGGS4-1O2WS-",
        "colab_type": "code",
        "colab": {}
      },
      "source": [
        "#create binary variables for different Sales Channels\n",
        "df['Partner cloud']=np.where(df['Type'] =='Partner - Cloud Product', 1.0,0.0)\n",
        "df['Partner prem']=np.where(df['Type'] =='Partner - OnPremise Product', 1.0, 0.0)\n",
        "df['Direct cloud']=np.where(df['Type'] =='Direct - Cloud Product', 1.0,0.0)\n",
        "df['Direct prem']=np.where(df['Type'] =='Direct - OnPremise Product', 1.0, 0.0)\n",
        "#making sure entries are numeric.\n",
        "df['amount']=pd.to_numeric(df[' Amount '],errors='coerce')\n",
        "df['net amount']=pd.to_numeric(df[' Net Amount '],errors='coerce')\n",
        "#getting discount & depth of discount\n",
        "df['discount']=df['amount']-df['net amount']\n",
        "df['depth']=df['discount']/df['amount']\n",
        "\n"
      ],
      "execution_count": null,
      "outputs": []
    },
    {
      "cell_type": "code",
      "metadata": {
        "id": "JxDTH5Q9_c7p",
        "colab_type": "code",
        "colab": {}
      },
      "source": [
        "#classifying as Won & Lost\n",
        "df['Stage']=np.where(df['Stage'] =='Closed Lost', 'Lost', df['Stage'])\n",
        "df['Stage']=np.where(df['Stage'] =='Closed Won - Paid', 'Won', df['Stage'])\n",
        "df['Stage']=np.where(df['Stage'] =='Closed Won - Not Paid', 'Won', df['Stage'])\n",
        "df['Stage']=np.where(df['Stage'] =='Closed - Lost', 'Lost', df['Stage'])\n",
        "df['Stage']=np.where(df['Stage'] =='Closed Lost - Not Renewing', 'Lost', df['Stage'])\n",
        "df['y']=np.where(df['Stage'] =='Won', 1.0,0.0)\n",
        "\n",
        "#getting end of quarter for each record\n",
        "quarter_end=[]\n",
        "for my_date in df['Created_Date']:\n",
        "  newrow=pd.to_datetime(my_date) + pd.offsets.QuarterEnd()\n",
        "  quarter_end.append(newrow)\n",
        "df['quarter_end']=quarter_end\n",
        "\n",
        "#getting the number of Days from end of quarter\n",
        "df['Days_from_Quarter_End']=(df['quarter_end']-pd.to_datetime(df['Created_Date'])).dt.days"
      ],
      "execution_count": null,
      "outputs": []
    },
    {
      "cell_type": "code",
      "metadata": {
        "id": "6y8pk2WXdv1Q",
        "colab_type": "code",
        "colab": {}
      },
      "source": [
        "data=df"
      ],
      "execution_count": null,
      "outputs": []
    },
    {
      "cell_type": "code",
      "metadata": {
        "id": "mgrT2tQc_gjg",
        "colab_type": "code",
        "colab": {
          "base_uri": "https://localhost:8080/",
          "height": 35
        },
        "outputId": "2837fe27-eb7e-4bf4-fa6b-83e1ada6a0c6"
      },
      "source": [
        "\n",
        "np.array(df['Days_from_Quarter_End'], dtype=np.int)"
      ],
      "execution_count": null,
      "outputs": [
        {
          "output_type": "execute_result",
          "data": {
            "text/plain": [
              "array([57, 32, 22, ...,  9, 37, 79])"
            ]
          },
          "metadata": {
            "tags": []
          },
          "execution_count": 54
        }
      ]
    },
    {
      "cell_type": "code",
      "metadata": {
        "id": "l2n4cXz1-tYT",
        "colab_type": "code",
        "colab": {
          "base_uri": "https://localhost:8080/",
          "height": 151
        },
        "outputId": "5ceb6ef0-a6a1-4716-854e-86d709afb77e"
      },
      "source": [
        "#Dealing with negative discounts\n",
        "data[data['discount']<0] #Number of negative discounts\n"
      ],
      "execution_count": null,
      "outputs": [
        {
          "output_type": "execute_result",
          "data": {
            "text/html": [
              "<div>\n",
              "<style scoped>\n",
              "    .dataframe tbody tr th:only-of-type {\n",
              "        vertical-align: middle;\n",
              "    }\n",
              "\n",
              "    .dataframe tbody tr th {\n",
              "        vertical-align: top;\n",
              "    }\n",
              "\n",
              "    .dataframe thead th {\n",
              "        text-align: right;\n",
              "    }\n",
              "</style>\n",
              "<table border=\"1\" class=\"dataframe\">\n",
              "  <thead>\n",
              "    <tr style=\"text-align: right;\">\n",
              "      <th></th>\n",
              "      <th>ID</th>\n",
              "      <th>Close_Date</th>\n",
              "      <th>Created_Date</th>\n",
              "      <th>New Logo</th>\n",
              "      <th>Type</th>\n",
              "      <th>Stage</th>\n",
              "      <th>Billing Plan</th>\n",
              "      <th>ACV</th>\n",
              "      <th>Discount Amount</th>\n",
              "      <th>Amount</th>\n",
              "      <th>Net Amount</th>\n",
              "      <th>Month</th>\n",
              "      <th>Day_of_Month</th>\n",
              "      <th>Year</th>\n",
              "      <th>Partner cloud</th>\n",
              "      <th>Partner prem</th>\n",
              "      <th>Direct cloud</th>\n",
              "      <th>Direct prem</th>\n",
              "      <th>amount</th>\n",
              "      <th>net amount</th>\n",
              "      <th>discount</th>\n",
              "      <th>depth</th>\n",
              "      <th>y</th>\n",
              "      <th>quarter_end</th>\n",
              "      <th>Days_from_Quarter_End</th>\n",
              "    </tr>\n",
              "  </thead>\n",
              "  <tbody>\n",
              "    <tr>\n",
              "      <th>928</th>\n",
              "      <td>929</td>\n",
              "      <td>11/14/16</td>\n",
              "      <td>4/26/16</td>\n",
              "      <td>0</td>\n",
              "      <td>Direct - OnPremise Product</td>\n",
              "      <td>Lost</td>\n",
              "      <td>NaN</td>\n",
              "      <td>74400</td>\n",
              "      <td>-14400</td>\n",
              "      <td>60000</td>\n",
              "      <td>74400</td>\n",
              "      <td>4</td>\n",
              "      <td>26</td>\n",
              "      <td>16</td>\n",
              "      <td>0.0</td>\n",
              "      <td>0.0</td>\n",
              "      <td>0.0</td>\n",
              "      <td>1.0</td>\n",
              "      <td>60000.0</td>\n",
              "      <td>74400.0</td>\n",
              "      <td>-14400.0</td>\n",
              "      <td>-0.24</td>\n",
              "      <td>0.0</td>\n",
              "      <td>2016-06-30</td>\n",
              "      <td>65</td>\n",
              "    </tr>\n",
              "  </tbody>\n",
              "</table>\n",
              "</div>"
            ],
            "text/plain": [
              "      ID Close_Date Created_Date  ...    y quarter_end Days_from_Quarter_End\n",
              "928  929   11/14/16      4/26/16  ...  0.0  2016-06-30                    65\n",
              "\n",
              "[1 rows x 25 columns]"
            ]
          },
          "metadata": {
            "tags": []
          },
          "execution_count": 55
        }
      ]
    },
    {
      "cell_type": "markdown",
      "metadata": {
        "id": "tkkmaIzQ_DU3",
        "colab_type": "text"
      },
      "source": [
        "There is one record of negative discount. We will make this discount positive as this seems to be a human error."
      ]
    },
    {
      "cell_type": "code",
      "metadata": {
        "id": "FGf9w6GcBpjL",
        "colab_type": "code",
        "colab": {}
      },
      "source": [
        "data['discount']=data['discount'].abs()"
      ],
      "execution_count": null,
      "outputs": []
    },
    {
      "cell_type": "code",
      "metadata": {
        "id": "fajy0LG32HgA",
        "colab_type": "code",
        "colab": {
          "base_uri": "https://localhost:8080/",
          "height": 799
        },
        "outputId": "fc48d266-4110-45f5-e9d3-4b8dabdefd08"
      },
      "source": [
        "data[pd.isnull(data['Billing Plan'])]\n"
      ],
      "execution_count": null,
      "outputs": [
        {
          "output_type": "execute_result",
          "data": {
            "text/html": [
              "<div>\n",
              "<style scoped>\n",
              "    .dataframe tbody tr th:only-of-type {\n",
              "        vertical-align: middle;\n",
              "    }\n",
              "\n",
              "    .dataframe tbody tr th {\n",
              "        vertical-align: top;\n",
              "    }\n",
              "\n",
              "    .dataframe thead th {\n",
              "        text-align: right;\n",
              "    }\n",
              "</style>\n",
              "<table border=\"1\" class=\"dataframe\">\n",
              "  <thead>\n",
              "    <tr style=\"text-align: right;\">\n",
              "      <th></th>\n",
              "      <th>ID</th>\n",
              "      <th>Close_Date</th>\n",
              "      <th>Created_Date</th>\n",
              "      <th>New Logo</th>\n",
              "      <th>Type</th>\n",
              "      <th>Stage</th>\n",
              "      <th>Billing Plan</th>\n",
              "      <th>ACV</th>\n",
              "      <th>Discount Amount</th>\n",
              "      <th>Amount</th>\n",
              "      <th>Net Amount</th>\n",
              "      <th>Month</th>\n",
              "      <th>Day_of_Month</th>\n",
              "      <th>Year</th>\n",
              "      <th>Partner cloud</th>\n",
              "      <th>Partner prem</th>\n",
              "      <th>Direct cloud</th>\n",
              "      <th>Direct prem</th>\n",
              "      <th>amount</th>\n",
              "      <th>net amount</th>\n",
              "      <th>discount</th>\n",
              "      <th>depth</th>\n",
              "      <th>y</th>\n",
              "      <th>quarter_end</th>\n",
              "      <th>Days_from_Quarter_End</th>\n",
              "    </tr>\n",
              "  </thead>\n",
              "  <tbody>\n",
              "    <tr>\n",
              "      <th>17</th>\n",
              "      <td>18</td>\n",
              "      <td>12/7/16</td>\n",
              "      <td>12/7/16</td>\n",
              "      <td>0</td>\n",
              "      <td>Direct - OnPremise Product</td>\n",
              "      <td>Lost</td>\n",
              "      <td>NaN</td>\n",
              "      <td>32000</td>\n",
              "      <td>NaN</td>\n",
              "      <td>32000</td>\n",
              "      <td>32000</td>\n",
              "      <td>12</td>\n",
              "      <td>7</td>\n",
              "      <td>16</td>\n",
              "      <td>0.0</td>\n",
              "      <td>0.0</td>\n",
              "      <td>0.0</td>\n",
              "      <td>1.0</td>\n",
              "      <td>32000.0</td>\n",
              "      <td>32000.0</td>\n",
              "      <td>0.0</td>\n",
              "      <td>0.0</td>\n",
              "      <td>0.0</td>\n",
              "      <td>2016-12-31</td>\n",
              "      <td>24</td>\n",
              "    </tr>\n",
              "    <tr>\n",
              "      <th>24</th>\n",
              "      <td>25</td>\n",
              "      <td>1/4/17</td>\n",
              "      <td>12/28/16</td>\n",
              "      <td>0</td>\n",
              "      <td>Partner - Cloud Product</td>\n",
              "      <td>Lost</td>\n",
              "      <td>NaN</td>\n",
              "      <td>NaN</td>\n",
              "      <td>NaN</td>\n",
              "      <td>32000</td>\n",
              "      <td>32000</td>\n",
              "      <td>12</td>\n",
              "      <td>28</td>\n",
              "      <td>16</td>\n",
              "      <td>1.0</td>\n",
              "      <td>0.0</td>\n",
              "      <td>0.0</td>\n",
              "      <td>0.0</td>\n",
              "      <td>32000.0</td>\n",
              "      <td>32000.0</td>\n",
              "      <td>0.0</td>\n",
              "      <td>0.0</td>\n",
              "      <td>0.0</td>\n",
              "      <td>2016-12-31</td>\n",
              "      <td>3</td>\n",
              "    </tr>\n",
              "    <tr>\n",
              "      <th>32</th>\n",
              "      <td>33</td>\n",
              "      <td>5/31/16</td>\n",
              "      <td>1/4/16</td>\n",
              "      <td>0</td>\n",
              "      <td>Partner - OnPremise Product</td>\n",
              "      <td>Lost</td>\n",
              "      <td>NaN</td>\n",
              "      <td>22000</td>\n",
              "      <td>NaN</td>\n",
              "      <td>22000</td>\n",
              "      <td>22000</td>\n",
              "      <td>1</td>\n",
              "      <td>4</td>\n",
              "      <td>16</td>\n",
              "      <td>0.0</td>\n",
              "      <td>1.0</td>\n",
              "      <td>0.0</td>\n",
              "      <td>0.0</td>\n",
              "      <td>22000.0</td>\n",
              "      <td>22000.0</td>\n",
              "      <td>0.0</td>\n",
              "      <td>0.0</td>\n",
              "      <td>0.0</td>\n",
              "      <td>2016-03-31</td>\n",
              "      <td>87</td>\n",
              "    </tr>\n",
              "    <tr>\n",
              "      <th>35</th>\n",
              "      <td>36</td>\n",
              "      <td>5/19/16</td>\n",
              "      <td>2/19/16</td>\n",
              "      <td>0</td>\n",
              "      <td>Partner - OnPremise Product</td>\n",
              "      <td>Lost</td>\n",
              "      <td>NaN</td>\n",
              "      <td>125000</td>\n",
              "      <td>NaN</td>\n",
              "      <td>125000</td>\n",
              "      <td>125000</td>\n",
              "      <td>2</td>\n",
              "      <td>19</td>\n",
              "      <td>16</td>\n",
              "      <td>0.0</td>\n",
              "      <td>1.0</td>\n",
              "      <td>0.0</td>\n",
              "      <td>0.0</td>\n",
              "      <td>125000.0</td>\n",
              "      <td>125000.0</td>\n",
              "      <td>0.0</td>\n",
              "      <td>0.0</td>\n",
              "      <td>0.0</td>\n",
              "      <td>2016-03-31</td>\n",
              "      <td>41</td>\n",
              "    </tr>\n",
              "    <tr>\n",
              "      <th>39</th>\n",
              "      <td>40</td>\n",
              "      <td>11/4/16</td>\n",
              "      <td>5/23/16</td>\n",
              "      <td>0</td>\n",
              "      <td>Partner - Cloud Product</td>\n",
              "      <td>Lost</td>\n",
              "      <td>NaN</td>\n",
              "      <td>NaN</td>\n",
              "      <td>NaN</td>\n",
              "      <td>500000</td>\n",
              "      <td>500000</td>\n",
              "      <td>5</td>\n",
              "      <td>23</td>\n",
              "      <td>16</td>\n",
              "      <td>1.0</td>\n",
              "      <td>0.0</td>\n",
              "      <td>0.0</td>\n",
              "      <td>0.0</td>\n",
              "      <td>500000.0</td>\n",
              "      <td>500000.0</td>\n",
              "      <td>0.0</td>\n",
              "      <td>0.0</td>\n",
              "      <td>0.0</td>\n",
              "      <td>2016-06-30</td>\n",
              "      <td>38</td>\n",
              "    </tr>\n",
              "    <tr>\n",
              "      <th>...</th>\n",
              "      <td>...</td>\n",
              "      <td>...</td>\n",
              "      <td>...</td>\n",
              "      <td>...</td>\n",
              "      <td>...</td>\n",
              "      <td>...</td>\n",
              "      <td>...</td>\n",
              "      <td>...</td>\n",
              "      <td>...</td>\n",
              "      <td>...</td>\n",
              "      <td>...</td>\n",
              "      <td>...</td>\n",
              "      <td>...</td>\n",
              "      <td>...</td>\n",
              "      <td>...</td>\n",
              "      <td>...</td>\n",
              "      <td>...</td>\n",
              "      <td>...</td>\n",
              "      <td>...</td>\n",
              "      <td>...</td>\n",
              "      <td>...</td>\n",
              "      <td>...</td>\n",
              "      <td>...</td>\n",
              "      <td>...</td>\n",
              "      <td>...</td>\n",
              "    </tr>\n",
              "    <tr>\n",
              "      <th>1498</th>\n",
              "      <td>1499</td>\n",
              "      <td>7/25/17</td>\n",
              "      <td>5/22/17</td>\n",
              "      <td>1</td>\n",
              "      <td>Partner - OnPremise Product</td>\n",
              "      <td>Lost</td>\n",
              "      <td>NaN</td>\n",
              "      <td>32000</td>\n",
              "      <td>NaN</td>\n",
              "      <td>32000</td>\n",
              "      <td>32000</td>\n",
              "      <td>5</td>\n",
              "      <td>22</td>\n",
              "      <td>17</td>\n",
              "      <td>0.0</td>\n",
              "      <td>1.0</td>\n",
              "      <td>0.0</td>\n",
              "      <td>0.0</td>\n",
              "      <td>32000.0</td>\n",
              "      <td>32000.0</td>\n",
              "      <td>0.0</td>\n",
              "      <td>0.0</td>\n",
              "      <td>0.0</td>\n",
              "      <td>2017-06-30</td>\n",
              "      <td>39</td>\n",
              "    </tr>\n",
              "    <tr>\n",
              "      <th>1499</th>\n",
              "      <td>1500</td>\n",
              "      <td>7/20/17</td>\n",
              "      <td>5/25/17</td>\n",
              "      <td>1</td>\n",
              "      <td>Partner - OnPremise Product</td>\n",
              "      <td>Lost</td>\n",
              "      <td>NaN</td>\n",
              "      <td>32000</td>\n",
              "      <td>NaN</td>\n",
              "      <td>32000</td>\n",
              "      <td>32000</td>\n",
              "      <td>5</td>\n",
              "      <td>25</td>\n",
              "      <td>17</td>\n",
              "      <td>0.0</td>\n",
              "      <td>1.0</td>\n",
              "      <td>0.0</td>\n",
              "      <td>0.0</td>\n",
              "      <td>32000.0</td>\n",
              "      <td>32000.0</td>\n",
              "      <td>0.0</td>\n",
              "      <td>0.0</td>\n",
              "      <td>0.0</td>\n",
              "      <td>2017-06-30</td>\n",
              "      <td>36</td>\n",
              "    </tr>\n",
              "    <tr>\n",
              "      <th>1500</th>\n",
              "      <td>1501</td>\n",
              "      <td>2/4/16</td>\n",
              "      <td>9/17/15</td>\n",
              "      <td>0</td>\n",
              "      <td>Direct - OnPremise Product</td>\n",
              "      <td>Lost</td>\n",
              "      <td>NaN</td>\n",
              "      <td>17900</td>\n",
              "      <td>NaN</td>\n",
              "      <td>17900</td>\n",
              "      <td>17900</td>\n",
              "      <td>9</td>\n",
              "      <td>17</td>\n",
              "      <td>15</td>\n",
              "      <td>0.0</td>\n",
              "      <td>0.0</td>\n",
              "      <td>0.0</td>\n",
              "      <td>1.0</td>\n",
              "      <td>17900.0</td>\n",
              "      <td>17900.0</td>\n",
              "      <td>0.0</td>\n",
              "      <td>0.0</td>\n",
              "      <td>0.0</td>\n",
              "      <td>2015-09-30</td>\n",
              "      <td>13</td>\n",
              "    </tr>\n",
              "    <tr>\n",
              "      <th>1501</th>\n",
              "      <td>1502</td>\n",
              "      <td>10/4/16</td>\n",
              "      <td>2/5/16</td>\n",
              "      <td>0</td>\n",
              "      <td>Partner - OnPremise Product</td>\n",
              "      <td>Lost</td>\n",
              "      <td>NaN</td>\n",
              "      <td>60000</td>\n",
              "      <td>NaN</td>\n",
              "      <td>60000</td>\n",
              "      <td>60000</td>\n",
              "      <td>2</td>\n",
              "      <td>5</td>\n",
              "      <td>16</td>\n",
              "      <td>0.0</td>\n",
              "      <td>1.0</td>\n",
              "      <td>0.0</td>\n",
              "      <td>0.0</td>\n",
              "      <td>60000.0</td>\n",
              "      <td>60000.0</td>\n",
              "      <td>0.0</td>\n",
              "      <td>0.0</td>\n",
              "      <td>0.0</td>\n",
              "      <td>2016-03-31</td>\n",
              "      <td>55</td>\n",
              "    </tr>\n",
              "    <tr>\n",
              "      <th>1503</th>\n",
              "      <td>1504</td>\n",
              "      <td>9/6/17</td>\n",
              "      <td>5/24/17</td>\n",
              "      <td>1</td>\n",
              "      <td>Direct - OnPremise Product</td>\n",
              "      <td>Lost</td>\n",
              "      <td>NaN</td>\n",
              "      <td>32000</td>\n",
              "      <td>NaN</td>\n",
              "      <td>32000</td>\n",
              "      <td>32000</td>\n",
              "      <td>5</td>\n",
              "      <td>24</td>\n",
              "      <td>17</td>\n",
              "      <td>0.0</td>\n",
              "      <td>0.0</td>\n",
              "      <td>0.0</td>\n",
              "      <td>1.0</td>\n",
              "      <td>32000.0</td>\n",
              "      <td>32000.0</td>\n",
              "      <td>0.0</td>\n",
              "      <td>0.0</td>\n",
              "      <td>0.0</td>\n",
              "      <td>2017-06-30</td>\n",
              "      <td>37</td>\n",
              "    </tr>\n",
              "  </tbody>\n",
              "</table>\n",
              "<p>525 rows × 25 columns</p>\n",
              "</div>"
            ],
            "text/plain": [
              "        ID Close_Date Created_Date  ...    y quarter_end Days_from_Quarter_End\n",
              "17      18    12/7/16      12/7/16  ...  0.0  2016-12-31                    24\n",
              "24      25     1/4/17     12/28/16  ...  0.0  2016-12-31                     3\n",
              "32      33    5/31/16       1/4/16  ...  0.0  2016-03-31                    87\n",
              "35      36    5/19/16      2/19/16  ...  0.0  2016-03-31                    41\n",
              "39      40    11/4/16      5/23/16  ...  0.0  2016-06-30                    38\n",
              "...    ...        ...          ...  ...  ...         ...                   ...\n",
              "1498  1499    7/25/17      5/22/17  ...  0.0  2017-06-30                    39\n",
              "1499  1500    7/20/17      5/25/17  ...  0.0  2017-06-30                    36\n",
              "1500  1501     2/4/16      9/17/15  ...  0.0  2015-09-30                    13\n",
              "1501  1502    10/4/16       2/5/16  ...  0.0  2016-03-31                    55\n",
              "1503  1504     9/6/17      5/24/17  ...  0.0  2017-06-30                    37\n",
              "\n",
              "[525 rows x 25 columns]"
            ]
          },
          "metadata": {
            "tags": []
          },
          "execution_count": 57
        }
      ]
    },
    {
      "cell_type": "code",
      "metadata": {
        "id": "h78RtqRK22cN",
        "colab_type": "code",
        "colab": {
          "base_uri": "https://localhost:8080/",
          "height": 52
        },
        "outputId": "cf195e2b-a892-46c5-e0de-2e96db4927ce"
      },
      "source": [
        "data['Billing Plan'].unique()"
      ],
      "execution_count": null,
      "outputs": [
        {
          "output_type": "execute_result",
          "data": {
            "text/plain": [
              "array(['3 Years', '4 Years', '2 Years', nan, 'Annual', '5 Years',\n",
              "       '3 Months', '9 Months', 'Quarterly'], dtype=object)"
            ]
          },
          "metadata": {
            "tags": []
          },
          "execution_count": 58
        }
      ]
    },
    {
      "cell_type": "markdown",
      "metadata": {
        "id": "Kf0Ci7mMLf9m",
        "colab_type": "text"
      },
      "source": [
        "Billing plan cannot be an explanatory variable since that is determined after winning the deal not when the lead is created."
      ]
    },
    {
      "cell_type": "markdown",
      "metadata": {
        "id": "S0haBb4CLOf8",
        "colab_type": "text"
      },
      "source": [
        "# Splitting the data into estimation & holdout samples"
      ]
    },
    {
      "cell_type": "code",
      "metadata": {
        "id": "ZTGwQfxpjdOO",
        "colab_type": "code",
        "colab": {}
      },
      "source": [
        "#splitting the data set for estimation & hold out\n",
        "estimation_df=data[data['ID']<1201]\n",
        "holdout_df=data[data['ID']>=1201]"
      ],
      "execution_count": null,
      "outputs": []
    },
    {
      "cell_type": "code",
      "metadata": {
        "id": "M30yVhmL-AWb",
        "colab_type": "code",
        "colab": {
          "base_uri": "https://localhost:8080/",
          "height": 121
        },
        "outputId": "9aa684b9-2365-419e-da57-0c6b7147b402"
      },
      "source": [
        "estimation_df.columns"
      ],
      "execution_count": null,
      "outputs": [
        {
          "output_type": "execute_result",
          "data": {
            "text/plain": [
              "Index(['ID', 'Close_Date', 'Created_Date', 'New Logo', 'Type', 'Stage',\n",
              "       'Billing Plan', ' ACV ', ' Discount Amount ', ' Amount ',\n",
              "       ' Net Amount ', 'Month', 'Day_of_Month', 'Year', 'Partner cloud',\n",
              "       'Partner prem', 'Direct cloud', 'Direct prem', 'amount', 'net amount',\n",
              "       'discount', 'depth', 'y', 'quarter_end', 'Days_from_Quarter_End'],\n",
              "      dtype='object')"
            ]
          },
          "metadata": {
            "tags": []
          },
          "execution_count": 60
        }
      ]
    },
    {
      "cell_type": "code",
      "metadata": {
        "id": "fy7Ds1-L-zQk",
        "colab_type": "code",
        "colab": {
          "base_uri": "https://localhost:8080/",
          "height": 572
        },
        "outputId": "c64e386f-df2f-477c-a0f7-57bfa2c9ec94"
      },
      "source": [
        "estimation_df.info()"
      ],
      "execution_count": null,
      "outputs": [
        {
          "output_type": "stream",
          "text": [
            "<class 'pandas.core.frame.DataFrame'>\n",
            "Int64Index: 1200 entries, 0 to 1199\n",
            "Data columns (total 25 columns):\n",
            " #   Column                 Non-Null Count  Dtype         \n",
            "---  ------                 --------------  -----         \n",
            " 0   ID                     1200 non-null   int64         \n",
            " 1   Close_Date             1200 non-null   object        \n",
            " 2   Created_Date           1200 non-null   object        \n",
            " 3   New Logo               1200 non-null   int64         \n",
            " 4   Type                   1200 non-null   object        \n",
            " 5   Stage                  1200 non-null   object        \n",
            " 6   Billing Plan           826 non-null    object        \n",
            " 7    ACV                   1171 non-null   object        \n",
            " 8    Discount Amount       538 non-null    object        \n",
            " 9    Amount                1200 non-null   object        \n",
            " 10   Net Amount            1200 non-null   object        \n",
            " 11  Month                  1200 non-null   int64         \n",
            " 12  Day_of_Month           1200 non-null   int64         \n",
            " 13  Year                   1200 non-null   object        \n",
            " 14  Partner cloud          1200 non-null   float64       \n",
            " 15  Partner prem           1200 non-null   float64       \n",
            " 16  Direct cloud           1200 non-null   float64       \n",
            " 17  Direct prem            1200 non-null   float64       \n",
            " 18  amount                 1151 non-null   float64       \n",
            " 19  net amount             1152 non-null   float64       \n",
            " 20  discount               1151 non-null   float64       \n",
            " 21  depth                  1151 non-null   float64       \n",
            " 22  y                      1200 non-null   float64       \n",
            " 23  quarter_end            1200 non-null   datetime64[ns]\n",
            " 24  Days_from_Quarter_End  1200 non-null   int64         \n",
            "dtypes: datetime64[ns](1), float64(9), int64(5), object(10)\n",
            "memory usage: 243.8+ KB\n"
          ],
          "name": "stdout"
        }
      ]
    },
    {
      "cell_type": "markdown",
      "metadata": {
        "id": "CZkz2DwRLvFu",
        "colab_type": "text"
      },
      "source": [
        "# Exploratory Data Analysis\n"
      ]
    },
    {
      "cell_type": "code",
      "metadata": {
        "id": "EC-VHIaVq8rp",
        "colab_type": "code",
        "colab": {
          "base_uri": "https://localhost:8080/",
          "height": 393
        },
        "outputId": "4f47f38d-dd7d-4978-ded0-c54077532222"
      },
      "source": [
        "import seaborn as sns\n",
        "import matplotlib.pyplot as plt\n",
        "# Compute the correlation matrix\n",
        "corr = estimation_df[[ 'New Logo', 'Stage',\n",
        "         ' Discount Amount ', ' Amount ',\n",
        "       ' Net Amount ', 'Month', 'Day_of_Month', 'Partner cloud',\n",
        "       'Partner prem', 'Direct cloud', 'Direct prem', 'amount', 'net amount',\n",
        "       'discount', 'y', 'Days_from_Quarter_End']].corr()\n",
        "\n",
        "# Generate a mask for the upper triangle\n",
        "mask = np.triu(np.ones_like(corr, dtype=np.bool))\n",
        "\n",
        "\n",
        "# Generate a custom diverging colormap\n",
        "cmap = sns.diverging_palette(10, 220, as_cmap=True)\n",
        "\n",
        "# Draw the heatmap with the mask and correct aspect ratio\n",
        "sns.heatmap(corr, mask=mask, cmap=cmap, vmax=.3, center=0,\n",
        "            square=True, linewidths=.5, cbar_kws={\"shrink\": .5})"
      ],
      "execution_count": null,
      "outputs": [
        {
          "output_type": "execute_result",
          "data": {
            "text/plain": [
              "<matplotlib.axes._subplots.AxesSubplot at 0x7fd49c2a75f8>"
            ]
          },
          "metadata": {
            "tags": []
          },
          "execution_count": 62
        },
        {
          "output_type": "display_data",
          "data": {
            "image/png": "[encoded data removed]",
            "text/plain": [
              "<Figure size 432x288 with 2 Axes>"
            ]
          },
          "metadata": {
            "tags": [],
            "needs_background": "light"
          }
        }
      ]
    },
    {
      "cell_type": "markdown",
      "metadata": {
        "id": "6zhScXCmlRAN",
        "colab_type": "text"
      },
      "source": [
        "From the matrix, we notice that for Y there is some degree of\n",
        "* positive correlation with New Logo,Amount & Discount\n",
        "* negative correlation with Days_from_Quarter_End\n",
        "\n",
        "\n"
      ]
    },
    {
      "cell_type": "code",
      "metadata": {
        "id": "icKFcDgXt2Va",
        "colab_type": "code",
        "colab": {
          "base_uri": "https://localhost:8080/",
          "height": 1000
        },
        "outputId": "40e38dc6-4293-4b81-a6ee-d493aeef1f2b"
      },
      "source": [
        "\n",
        "sns.pairplot(estimation_df[[ 'New Logo', 'Stage','Type',\n",
        "         ' Discount Amount ', ' Amount ',\n",
        "       ' Net Amount ', 'Month', 'Day_of_Month', 'amount',\n",
        "       'discount', 'y', 'Days_from_Quarter_End']])"
      ],
      "execution_count": null,
      "outputs": [
        {
          "output_type": "execute_result",
          "data": {
            "text/plain": [
              "<seaborn.axisgrid.PairGrid at 0x7fd49c2ad390>"
            ]
          },
          "metadata": {
            "tags": []
          },
          "execution_count": 63
        },
        {
          "output_type": "display_data",
          "data": {
            "image/png": "[encoded data removed]",
            "text/plain": [
              "<Figure size 1260x1260 with 56 Axes>"
            ]
          },
          "metadata": {
            "tags": [],
            "needs_background": "light"
          }
        }
      ]
    },
    {
      "cell_type": "code",
      "metadata": {
        "id": "KOTNheIucsQM",
        "colab_type": "code",
        "colab": {
          "base_uri": "https://localhost:8080/",
          "height": 279
        },
        "outputId": "b34774f9-3dc8-477d-cfff-42dfb326cbcd"
      },
      "source": [
        "ax = sns.boxplot(x=\"y\", y=\"Day_of_Month\", data=estimation_df)"
      ],
      "execution_count": null,
      "outputs": [
        {
          "output_type": "display_data",
          "data": {
            "image/png": "[encoded data removed]",
            "text/plain": [
              "<Figure size 432x288 with 1 Axes>"
            ]
          },
          "metadata": {
            "tags": [],
            "needs_background": "light"
          }
        }
      ]
    },
    {
      "cell_type": "markdown",
      "metadata": {
        "id": "pb9WvVXD0EER",
        "colab_type": "text"
      },
      "source": [
        "No difference in Win & Lost pertaining to Day of Month"
      ]
    },
    {
      "cell_type": "code",
      "metadata": {
        "id": "ejIE_3ArdyDo",
        "colab_type": "code",
        "colab": {
          "base_uri": "https://localhost:8080/",
          "height": 279
        },
        "outputId": "9057fbc2-a441-49c7-ea6b-72fcc4ec7ab5"
      },
      "source": [
        "ax = sns.boxplot(x=\"y\", y=\"Days_from_Quarter_End\", data=estimation_df)"
      ],
      "execution_count": null,
      "outputs": [
        {
          "output_type": "display_data",
          "data": {
            "image/png": "[encoded data removed]",
            "text/plain": [
              "<Figure size 432x288 with 1 Axes>"
            ]
          },
          "metadata": {
            "tags": [],
            "needs_background": "light"
          }
        }
      ]
    },
    {
      "cell_type": "markdown",
      "metadata": {
        "id": "clW0urOIz9Q3",
        "colab_type": "text"
      },
      "source": [
        "Some difference in Win & Lost Deals in terms of Days from Quarter End"
      ]
    },
    {
      "cell_type": "code",
      "metadata": {
        "id": "mHscmbS1d7Sx",
        "colab_type": "code",
        "colab": {
          "base_uri": "https://localhost:8080/",
          "height": 279
        },
        "outputId": "86132aee-ce21-41c8-c044-458ab46629ac"
      },
      "source": [
        "ax = sns.boxplot(x=\"y\", y=\"Month\", data=estimation_df)"
      ],
      "execution_count": null,
      "outputs": [
        {
          "output_type": "display_data",
          "data": {
            "image/png": "[encoded data removed]",
            "text/plain": [
              "<Figure size 432x288 with 1 Axes>"
            ]
          },
          "metadata": {
            "tags": [],
            "needs_background": "light"
          }
        }
      ]
    },
    {
      "cell_type": "markdown",
      "metadata": {
        "id": "BoIONOwM0KZc",
        "colab_type": "text"
      },
      "source": [
        "No difference in Win & Lost pertaining to Month"
      ]
    },
    {
      "cell_type": "markdown",
      "metadata": {
        "id": "lywTDdo4L3zD",
        "colab_type": "text"
      },
      "source": [
        "# Building the logit models for predicting probability of winning the deal for the 4 Types\n",
        "\n",
        "\\begin{equation}\n",
        "p(Y=1|x)=\\frac{e^{x'\\beta}}{1+e^{x'\\beta}}\n",
        "\\end{equation}\n",
        "\n",
        "In our case \n",
        "\\begin{equation}\n",
        "x'\\beta=\\beta_0+\\beta_1\\times \\text{Amount}+\\beta_2 \\times \\text{Discount}+\\beta_3 \\times \\text{New Logo}+\\beta_4 \\times \\text{Discount}+\\beta_5 \\times \\text{Days_from_Quarter_End}\n",
        "\\end{equation}\n",
        "\n",
        "\n",
        "source: https://www.statsmodels.org/stable/generated/statsmodels.discrete.discrete_model.Logit.cdf.html#statsmodels.discrete.discrete_model.Logit.cdf\n"
      ]
    },
    {
      "cell_type": "code",
      "metadata": {
        "id": "RVxzaRfIjp38",
        "colab_type": "code",
        "colab": {
          "base_uri": "https://localhost:8080/",
          "height": 1000
        },
        "outputId": "3e5dddd0-7866-4492-8348-922cf84b5752"
      },
      "source": [
        "\n",
        "#Price Response function\n",
        "import statsmodels.api as sm\n",
        "from sklearn.preprocessing import StandardScaler\n",
        "\n",
        "#Normalizing the training set \n",
        "channels= {}\n",
        "for channel in (estimation_df['Type'].unique()):\n",
        "  regressiondata=estimation_df[estimation_df['Type']==channel][['y','discount','amount','New Logo','Days_from_Quarter_End']]\n",
        "  y=regressiondata['y']\n",
        "  x=regressiondata[['discount','amount','New Logo','Days_from_Quarter_End']]\n",
        "  model = sm.Logit(y, x, missing='drop')\n",
        "  model.fit\n",
        "  type(model)\n",
        "  result=model.fit()\n",
        "  channels[channel]= result.params\n",
        "  print(\"Logistic Results for \"+channel)\n",
        "  print(result.summary())\n",
        "   \n",
        "    \n"
      ],
      "execution_count": null,
      "outputs": [
        {
          "output_type": "stream",
          "text": [
            "Optimization terminated successfully.\n",
            "         Current function value: 0.399474\n",
            "         Iterations 8\n",
            "Logistic Results for Direct - Cloud Product\n",
            "                           Logit Regression Results                           \n",
            "==============================================================================\n",
            "Dep. Variable:                      y   No. Observations:                   50\n",
            "Model:                          Logit   Df Residuals:                       46\n",
            "Method:                           MLE   Df Model:                            3\n",
            "Date:                Mon, 08 Jun 2020   Pseudo R-squ.:                  0.3984\n",
            "Time:                        07:16:15   Log-Likelihood:                -19.974\n",
            "converged:                       True   LL-Null:                       -33.203\n",
            "Covariance Type:            nonrobust   LLR p-value:                 7.643e-06\n",
            "=========================================================================================\n",
            "                            coef    std err          z      P>|z|      [0.025      0.975]\n",
            "-----------------------------------------------------------------------------------------\n",
            "discount               6.074e-05   2.37e-05      2.565      0.010    1.43e-05       0.000\n",
            "amount                -2.437e-05   1.21e-05     -2.010      0.044   -4.81e-05   -6.06e-07\n",
            "New Logo                  2.4472      1.019      2.400      0.016       0.449       4.445\n",
            "Days_from_Quarter_End    -0.0338      0.014     -2.386      0.017      -0.062      -0.006\n",
            "=========================================================================================\n",
            "Optimization terminated successfully.\n",
            "         Current function value: 0.474650\n",
            "         Iterations 8\n",
            "Logistic Results for Partner - OnPremise Product\n",
            "                           Logit Regression Results                           \n",
            "==============================================================================\n",
            "Dep. Variable:                      y   No. Observations:                  649\n",
            "Model:                          Logit   Df Residuals:                      645\n",
            "Method:                           MLE   Df Model:                            3\n",
            "Date:                Mon, 08 Jun 2020   Pseudo R-squ.:                  0.2987\n",
            "Time:                        07:16:15   Log-Likelihood:                -308.05\n",
            "converged:                       True   LL-Null:                       -439.25\n",
            "Covariance Type:            nonrobust   LLR p-value:                 1.360e-56\n",
            "=========================================================================================\n",
            "                            coef    std err          z      P>|z|      [0.025      0.975]\n",
            "-----------------------------------------------------------------------------------------\n",
            "discount                  0.0001   1.37e-05      7.507      0.000    7.58e-05       0.000\n",
            "amount                -3.701e-06   1.83e-06     -2.022      0.043   -7.29e-06   -1.13e-07\n",
            "New Logo                  1.2163      0.200      6.070      0.000       0.824       1.609\n",
            "Days_from_Quarter_End    -0.0260      0.003     -8.723      0.000      -0.032      -0.020\n",
            "=========================================================================================\n",
            "Optimization terminated successfully.\n",
            "         Current function value: 0.479341\n",
            "         Iterations 7\n",
            "Logistic Results for Partner - Cloud Product\n",
            "                           Logit Regression Results                           \n",
            "==============================================================================\n",
            "Dep. Variable:                      y   No. Observations:                  194\n",
            "Model:                          Logit   Df Residuals:                      190\n",
            "Method:                           MLE   Df Model:                            3\n",
            "Date:                Mon, 08 Jun 2020   Pseudo R-squ.:                  0.3076\n",
            "Time:                        07:16:15   Log-Likelihood:                -92.992\n",
            "converged:                       True   LL-Null:                       -134.31\n",
            "Covariance Type:            nonrobust   LLR p-value:                 8.384e-18\n",
            "=========================================================================================\n",
            "                            coef    std err          z      P>|z|      [0.025      0.975]\n",
            "-----------------------------------------------------------------------------------------\n",
            "discount                5.36e-05   1.04e-05      5.129      0.000    3.31e-05    7.41e-05\n",
            "amount                -1.437e-05   2.83e-06     -5.073      0.000   -1.99e-05   -8.82e-06\n",
            "New Logo                  1.2140      0.348      3.485      0.000       0.531       1.897\n",
            "Days_from_Quarter_End    -0.0081      0.006     -1.253      0.210      -0.021       0.005\n",
            "=========================================================================================\n",
            "Optimization terminated successfully.\n",
            "         Current function value: 0.471696\n",
            "         Iterations 7\n",
            "Logistic Results for Direct - OnPremise Product\n",
            "                           Logit Regression Results                           \n",
            "==============================================================================\n",
            "Dep. Variable:                      y   No. Observations:                  258\n",
            "Model:                          Logit   Df Residuals:                      254\n",
            "Method:                           MLE   Df Model:                            3\n",
            "Date:                Mon, 08 Jun 2020   Pseudo R-squ.:                  0.1580\n",
            "Time:                        07:16:15   Log-Likelihood:                -121.70\n",
            "converged:                       True   LL-Null:                       -144.53\n",
            "Covariance Type:            nonrobust   LLR p-value:                 6.678e-10\n",
            "=========================================================================================\n",
            "                            coef    std err          z      P>|z|      [0.025      0.975]\n",
            "-----------------------------------------------------------------------------------------\n",
            "discount               6.547e-05   1.81e-05      3.623      0.000       3e-05       0.000\n",
            "amount                -1.539e-05   5.77e-06     -2.668      0.008   -2.67e-05   -4.08e-06\n",
            "New Logo                  1.2667      0.318      3.977      0.000       0.642       1.891\n",
            "Days_from_Quarter_End    -0.0254      0.005     -4.808      0.000      -0.036      -0.015\n",
            "=========================================================================================\n"
          ],
          "name": "stdout"
        }
      ]
    },
    {
      "cell_type": "markdown",
      "metadata": {
        "id": "Rn04Ydc8b0dl",
        "colab_type": "text"
      },
      "source": [
        "At p=0.05 significance, \n",
        "\n",
        "We observe that for all channels except Partner - Cloud Product the significant explanatory variables are:\n",
        "* Discount\n",
        "* Amount\n",
        "* New Logo\n",
        "* Days_from_Quarter_End\n",
        "\n",
        "For Partner - Cloud Product the significant explanatory variables are:\n",
        "* Discount\n",
        "* Amount\n",
        "* New Logo\n"
      ]
    },
    {
      "cell_type": "code",
      "metadata": {
        "id": "EiihI41MbsE3",
        "colab_type": "code",
        "colab": {
          "base_uri": "https://localhost:8080/",
          "height": 364
        },
        "outputId": "c6ca25c1-86ae-4974-9d7c-2dbecb18f2d0"
      },
      "source": [
        "#saved parameter estimates for each channel in the channels dictionary\n",
        "channels"
      ],
      "execution_count": null,
      "outputs": [
        {
          "output_type": "execute_result",
          "data": {
            "text/plain": [
              "{'Direct - Cloud Product': discount                 0.000061\n",
              " amount                  -0.000024\n",
              " New Logo                 2.447230\n",
              " Days_from_Quarter_End   -0.033786\n",
              " dtype: float64,\n",
              " 'Direct - OnPremise Product': discount                 0.000065\n",
              " amount                  -0.000015\n",
              " New Logo                 1.266668\n",
              " Days_from_Quarter_End   -0.025373\n",
              " dtype: float64,\n",
              " 'Partner - Cloud Product': discount                 0.000054\n",
              " amount                  -0.000014\n",
              " New Logo                 1.213996\n",
              " Days_from_Quarter_End   -0.008059\n",
              " dtype: float64,\n",
              " 'Partner - OnPremise Product': discount                 0.000103\n",
              " amount                  -0.000004\n",
              " New Logo                 1.216281\n",
              " Days_from_Quarter_End   -0.025989\n",
              " dtype: float64}"
            ]
          },
          "metadata": {
            "tags": []
          },
          "execution_count": 68
        }
      ]
    },
    {
      "cell_type": "code",
      "metadata": {
        "id": "FMIG--egikUg",
        "colab_type": "code",
        "colab": {}
      },
      "source": [
        "#updating the paramaters based on the significance of each of the 4 logit models\n",
        " \n",
        "def update_PartnerCloud(result_parameters):\n",
        "   result_parameters[3]=0\n",
        "   return result_parameters\n",
        " \n"
      ],
      "execution_count": null,
      "outputs": []
    },
    {
      "cell_type": "markdown",
      "metadata": {
        "id": "VOuHSkAJMCw5",
        "colab_type": "text"
      },
      "source": [
        "# Finding the discount to be given to each client to optimize the revenue based on the probability of winning from our model\n",
        "\n",
        "\\begin{equation}\n",
        "R(p)=Proba(Y=1|p,d) \\times (p-d)\n",
        "\\end{equation}\n",
        "\n"
      ]
    },
    {
      "cell_type": "code",
      "metadata": {
        "id": "RsZcmGGVXjZG",
        "colab_type": "code",
        "colab": {}
      },
      "source": [
        "\n",
        "#Attempt to personalized pricing\n",
        "\n",
        "\n",
        "h_df=holdout_df[['discount','amount','New Logo','Days_from_Quarter_End','Type','ID']]\n",
        "\n",
        "ID=1201\n",
        "ID_max=1506\n",
        "opt_dis_df=pd.DataFrame(columns=[\"ID\",\"optimal_discount\"]) \n",
        "while ID<=ID_max-1:\n",
        "  client_df=h_df.iloc[ID-1201,0:6] #index is one less than the ID \n",
        "  client_channel=client_df['Type']\n",
        "  result_parameters=channels.get(client_channel) #getting the parameters based on the Type of sales channel of the client\n",
        " #update the coefficients based on the different models\n",
        "  if(client_channel=='Partner - Cloud Product'):\n",
        "    result_parameters=update_PartnerCloud(result_parameters)\n",
        "\n",
        "  UT=np.matmul(client_df[1:4],result_parameters[1:4])\n",
        "  #print(UT)\n",
        "  b=result_parameters[0]\n",
        "  p=client_df[1]\n",
        "  def revenueD(d):\n",
        "    \"\"\"This is the negative revenue function\"\"\"\n",
        "    return -np.exp(UT+b*np.sqrt(d**2))/(1+np.exp(UT+b*np.sqrt(d**2)))*(p-np.sqrt(d**2))\n",
        "  sol3=minimize_scalar(revenueD,bounds=(0, 0))\n",
        "  new_row=pd.DataFrame([[client_df['ID'],sol3.x]], columns=[\"ID\",\"optimal_discount\"])     \n",
        "  opt_dis_df=opt_dis_df.append(new_row)\n",
        "  ID=ID+1\n",
        " "
      ],
      "execution_count": null,
      "outputs": []
    },
    {
      "cell_type": "code",
      "metadata": {
        "id": "so7ZgqAP5dzk",
        "colab_type": "code",
        "colab": {}
      },
      "source": [
        "opt_dis_df['optimal_discount']=np.sqrt(opt_dis_df['optimal_discount']**2)"
      ],
      "execution_count": null,
      "outputs": []
    },
    {
      "cell_type": "code",
      "metadata": {
        "id": "jaOgCJ8FatDJ",
        "colab_type": "code",
        "colab": {}
      },
      "source": [
        "holdout_opt_dis=pd.merge(holdout_df,opt_dis_df, on='ID',how='inner')"
      ],
      "execution_count": null,
      "outputs": []
    },
    {
      "cell_type": "code",
      "metadata": {
        "id": "MyTg2d-T6l_K",
        "colab_type": "code",
        "colab": {
          "base_uri": "https://localhost:8080/",
          "height": 35
        },
        "outputId": "a0a3afe3-9f3f-4c8f-d30c-6f78bc163621"
      },
      "source": [
        "print(round(np.mean(holdout_opt_dis['optimal_discount']),0),np.round(np.mean(holdout_opt_dis['discount']),0))"
      ],
      "execution_count": null,
      "outputs": [
        {
          "output_type": "stream",
          "text": [
            "15074.0 12685.0\n"
          ],
          "name": "stdout"
        }
      ]
    },
    {
      "cell_type": "markdown",
      "metadata": {
        "id": "-MEb7XLeaekv",
        "colab_type": "text"
      },
      "source": [
        "# **Computation Revenue Improvement**\n"
      ]
    },
    {
      "cell_type": "markdown",
      "metadata": {
        "id": "qFtCcCqG5CKk",
        "colab_type": "text"
      },
      "source": [
        "##a. Expected revenue improvement over un-optimized discounts (take the actual discounts in the data-set) for leads in the hold-out sample\n"
      ]
    },
    {
      "cell_type": "code",
      "metadata": {
        "id": "rkLkN3ke67S_",
        "colab_type": "code",
        "colab": {}
      },
      "source": [
        "#Using our probability models\n",
        "\n",
        "h_df=holdout_opt_dis[['discount','amount','New Logo','Days_from_Quarter_End','Type','ID']]\n",
        "\n",
        "ID=1201\n",
        "ID_max=1506\n",
        "unopt_rev_df=pd.DataFrame(columns=[\"ID\",\"unoptimized_rev\",\"probability\"]) \n",
        "while ID<=ID_max-1:\n",
        "  client_df=h_df.iloc[ID-1201,0:6] #index is one less than the ID \n",
        "  client_channel=client_df['Type']\n",
        "  result_parameters=channels.get(client_channel) #getting the parameters based on the Type of sales channel of the client\n",
        " #update the coefficients based on the different models\n",
        "  if(client_channel=='Partner - Cloud Product'):\n",
        "    result_parameters=update_PartnerCloud(result_parameters)\n",
        "  UT=np.matmul(client_df[0:4],result_parameters[0:4])\n",
        "  #print(UT)\n",
        "  b=result_parameters[0]\n",
        "  p=client_df[1]\n",
        "  d=client_df[0]\n",
        "  prob=np.exp(UT)/(1+np.exp(UT))\n",
        "  unoptimized_rev=prob*(client_df[1]-client_df[0])\n",
        "  new_row=pd.DataFrame([[client_df['ID'],unoptimized_rev,prob]], columns=[\"ID\",\"unoptimized_rev\",\"probability\"])     \n",
        "  unopt_rev_df=unopt_rev_df.append(new_row)\n",
        "  ID=ID+1\n",
        " "
      ],
      "execution_count": null,
      "outputs": []
    },
    {
      "cell_type": "code",
      "metadata": {
        "id": "nYD0gluUFWGJ",
        "colab_type": "code",
        "colab": {
          "base_uri": "https://localhost:8080/",
          "height": 35
        },
        "outputId": "db65f92c-3f6e-477d-85fa-f555a42359cd"
      },
      "source": [
        "\n",
        "holdout_unoptimized=pd.merge(holdout_df,unopt_rev_df,on='ID', how='inner')\n",
        "holdout_unoptimized['Revenue']=np.where(holdout_unoptimized['Stage'] =='Won',holdout_unoptimized['net amount'] ,0.0)\n",
        "holdout_unoptimized['unoptimized_rev']=np.where(holdout_unoptimized['probability'] > 0.5,holdout_unoptimized['unoptimized_rev'] ,0.0)\n",
        "round(np.sum(holdout_unoptimized['unoptimized_rev'])/np.sum(holdout_unoptimized['Revenue']),2)"
      ],
      "execution_count": null,
      "outputs": [
        {
          "output_type": "execute_result",
          "data": {
            "text/plain": [
              "1.04"
            ]
          },
          "metadata": {
            "tags": []
          },
          "execution_count": 75
        }
      ]
    },
    {
      "cell_type": "markdown",
      "metadata": {
        "id": "E83YRYiix043",
        "colab_type": "text"
      },
      "source": [
        "4% increase in revenue based on our probability model. This  is a good indicator that our models are performing well as the increment should be really low and close to the old revenue."
      ]
    },
    {
      "cell_type": "code",
      "metadata": {
        "id": "SPod2CEcxmT_",
        "colab_type": "code",
        "colab": {
          "base_uri": "https://localhost:8080/",
          "height": 279
        },
        "outputId": "861f5385-be33-442f-bba3-64ccfe0651b8"
      },
      "source": [
        "ax = sns.boxplot(x=\"y\", y=\"probability\", data=holdout_unoptimized)"
      ],
      "execution_count": null,
      "outputs": [
        {
          "output_type": "display_data",
          "data": {
            "image/png": "[encoded data removed]",
            "text/plain": [
              "<Figure size 432x288 with 1 Axes>"
            ]
          },
          "metadata": {
            "tags": [],
            "needs_background": "light"
          }
        }
      ]
    },
    {
      "cell_type": "markdown",
      "metadata": {
        "id": "q8BRifivx4b-",
        "colab_type": "text"
      },
      "source": [
        "Based on the boxplot (where blue indicates lost deals & orange indicates won deals), our model is able to accurately predict the probability of winning for Won & Lost deals\n"
      ]
    },
    {
      "cell_type": "markdown",
      "metadata": {
        "id": "Wz7U9ip8JN1O",
        "colab_type": "text"
      },
      "source": [
        "## b. Expected revenue improvement over optimized discounts (based on your estimation results, optimize discounts offered to leads in the hold-out sample)."
      ]
    },
    {
      "cell_type": "code",
      "metadata": {
        "id": "KjZpGgmRagAk",
        "colab_type": "code",
        "colab": {}
      },
      "source": [
        "#Attempt to personalized pricing\n",
        "\n",
        "h_df=holdout_opt_dis[['optimal_discount','amount','New Logo','Days_from_Quarter_End','Type','ID']]\n",
        "\n",
        "ID=1201\n",
        "ID_max=1506\n",
        "opt_rev_df=pd.DataFrame(columns=[\"ID\",\"optimized_rev\",\"probability\"]) \n",
        "while ID<=ID_max-1:\n",
        "  client_df=h_df.iloc[ID-1201,0:6] #index is one less than the ID \n",
        "  client_channel=client_df['Type']\n",
        "  result_parameters=channels.get(client_channel) #getting the parameters based on the Type of sales channel of the client\n",
        "  #update the coefficients based on the different models\n",
        "  if(client_channel=='Partner - Cloud Product'):\n",
        "    result_parameters=update_PartnerCloud(result_parameters)\n",
        "  UT=np.dot(client_df[0:4],result_parameters[0:4])\n",
        "  #print(UT)\n",
        "  b=result_parameters[0]\n",
        "  p=client_df[1]\n",
        "  d=client_df[0]\n",
        "  prob=np.exp(UT)/(1+np.exp(UT))\n",
        "  optimized_rev=prob*(client_df[1]-client_df[0])\n",
        "  new_row=pd.DataFrame([[client_df['ID'],optimized_rev,prob]], columns=[\"ID\",\"optimized_rev\",\"probability\"])     \n",
        "  opt_rev_df=opt_rev_df.append(new_row)\n",
        "  ID=ID+1\n",
        " "
      ],
      "execution_count": null,
      "outputs": []
    },
    {
      "cell_type": "code",
      "metadata": {
        "id": "69OSj--favws",
        "colab_type": "code",
        "colab": {
          "base_uri": "https://localhost:8080/",
          "height": 35
        },
        "outputId": "33a3ed00-8cdd-4c2a-e8c7-50cf29336181"
      },
      "source": [
        "holdout_optimized=pd.merge(holdout_opt_dis,opt_rev_df,on='ID', how='inner')\n",
        "holdout_optimized['Revenue']=np.where(holdout_optimized['Stage'] =='Won',holdout_optimized['net amount'] ,0.0)\n",
        "holdout_optimized['optimized_rev']=np.where(holdout_optimized['probability'] > 0.5,holdout_optimized['optimized_rev'] ,0.0)\n",
        "round(np.sum(holdout_optimized['optimized_rev'])/np.sum(holdout_optimized['Revenue']),2)"
      ],
      "execution_count": null,
      "outputs": [
        {
          "output_type": "execute_result",
          "data": {
            "text/plain": [
              "1.63"
            ]
          },
          "metadata": {
            "tags": []
          },
          "execution_count": 78
        }
      ]
    },
    {
      "cell_type": "markdown",
      "metadata": {
        "id": "nMvqB5oXZ3ta",
        "colab_type": "text"
      },
      "source": [
        "We take the threshold of probability of winning to be 0.5. Anything greater than that is considered to be a winning deal. Based on that the increase in revenue for optimized discount is 63% .\n",
        "\n"
      ]
    },
    {
      "cell_type": "markdown",
      "metadata": {
        "id": "kV7iQyEEbZc6",
        "colab_type": "text"
      },
      "source": [
        "#Revenue Optimization for each sales channel\n",
        "\n",
        "\n"
      ]
    },
    {
      "cell_type": "code",
      "metadata": {
        "id": "IRxg4CkObaT0",
        "colab_type": "code",
        "colab": {
          "base_uri": "https://localhost:8080/",
          "height": 139
        },
        "outputId": "8f4583d7-2888-4840-ab1a-ff7157ee47bd"
      },
      "source": [
        "holdout_optimized.columns"
      ],
      "execution_count": null,
      "outputs": [
        {
          "output_type": "execute_result",
          "data": {
            "text/plain": [
              "Index(['ID', 'Close_Date', 'Created_Date', 'New Logo', 'Type', 'Stage',\n",
              "       'Billing Plan', ' ACV ', ' Discount Amount ', ' Amount ',\n",
              "       ' Net Amount ', 'Month', 'Day_of_Month', 'Year', 'Partner cloud',\n",
              "       'Partner prem', 'Direct cloud', 'Direct prem', 'amount', 'net amount',\n",
              "       'discount', 'depth', 'y', 'quarter_end', 'Days_from_Quarter_End',\n",
              "       'optimal_discount', 'optimized_rev', 'probability', 'Revenue'],\n",
              "      dtype='object')"
            ]
          },
          "metadata": {
            "tags": []
          },
          "execution_count": 79
        }
      ]
    },
    {
      "cell_type": "code",
      "metadata": {
        "id": "MMdTVLOFcyjf",
        "colab_type": "code",
        "colab": {
          "base_uri": "https://localhost:8080/",
          "height": 202
        },
        "outputId": "29cea6c1-2cfc-4d8a-f0a3-4578d7e2bec1"
      },
      "source": [
        "dff=holdout_optimized[['Type','Stage','discount','optimal_discount','Revenue','optimized_rev']]\n",
        "round(dff.groupby('Type').mean(),2)"
      ],
      "execution_count": null,
      "outputs": [
        {
          "output_type": "execute_result",
          "data": {
            "text/html": [
              "<div>\n",
              "<style scoped>\n",
              "    .dataframe tbody tr th:only-of-type {\n",
              "        vertical-align: middle;\n",
              "    }\n",
              "\n",
              "    .dataframe tbody tr th {\n",
              "        vertical-align: top;\n",
              "    }\n",
              "\n",
              "    .dataframe thead th {\n",
              "        text-align: right;\n",
              "    }\n",
              "</style>\n",
              "<table border=\"1\" class=\"dataframe\">\n",
              "  <thead>\n",
              "    <tr style=\"text-align: right;\">\n",
              "      <th></th>\n",
              "      <th>discount</th>\n",
              "      <th>optimal_discount</th>\n",
              "      <th>Revenue</th>\n",
              "      <th>optimized_rev</th>\n",
              "    </tr>\n",
              "    <tr>\n",
              "      <th>Type</th>\n",
              "      <th></th>\n",
              "      <th></th>\n",
              "      <th></th>\n",
              "      <th></th>\n",
              "    </tr>\n",
              "  </thead>\n",
              "  <tbody>\n",
              "    <tr>\n",
              "      <th>Direct - Cloud Product</th>\n",
              "      <td>12471.76</td>\n",
              "      <td>23878.24</td>\n",
              "      <td>9029.41</td>\n",
              "      <td>25374.96</td>\n",
              "    </tr>\n",
              "    <tr>\n",
              "      <th>Direct - OnPremise Product</th>\n",
              "      <td>2937.01</td>\n",
              "      <td>8868.15</td>\n",
              "      <td>4851.02</td>\n",
              "      <td>6554.16</td>\n",
              "    </tr>\n",
              "    <tr>\n",
              "      <th>Partner - Cloud Product</th>\n",
              "      <td>52629.22</td>\n",
              "      <td>37672.75</td>\n",
              "      <td>58460.92</td>\n",
              "      <td>84156.38</td>\n",
              "    </tr>\n",
              "    <tr>\n",
              "      <th>Partner - OnPremise Product</th>\n",
              "      <td>10492.98</td>\n",
              "      <td>13317.13</td>\n",
              "      <td>15357.20</td>\n",
              "      <td>27541.48</td>\n",
              "    </tr>\n",
              "  </tbody>\n",
              "</table>\n",
              "</div>"
            ],
            "text/plain": [
              "                             discount  ...  optimized_rev\n",
              "Type                                   ...               \n",
              "Direct - Cloud Product       12471.76  ...       25374.96\n",
              "Direct - OnPremise Product    2937.01  ...        6554.16\n",
              "Partner - Cloud Product      52629.22  ...       84156.38\n",
              "Partner - OnPremise Product  10492.98  ...       27541.48\n",
              "\n",
              "[4 rows x 4 columns]"
            ]
          },
          "metadata": {
            "tags": []
          },
          "execution_count": 80
        }
      ]
    },
    {
      "cell_type": "code",
      "metadata": {
        "id": "CIkuHnWAosG6",
        "colab_type": "code",
        "colab": {}
      },
      "source": [
        "model_sum=round(dff.groupby('Type').mean(),2)"
      ],
      "execution_count": null,
      "outputs": []
    },
    {
      "cell_type": "code",
      "metadata": {
        "id": "JW5GbBMWo2rt",
        "colab_type": "code",
        "colab": {
          "base_uri": "https://localhost:8080/",
          "height": 121
        },
        "outputId": "b4ae051d-06aa-4dea-8580-99d441c0ec41"
      },
      "source": [
        "model_sum['optimal_discount']-model_sum['discount']"
      ],
      "execution_count": null,
      "outputs": [
        {
          "output_type": "execute_result",
          "data": {
            "text/plain": [
              "Type\n",
              "Direct - Cloud Product         11406.48\n",
              "Direct - OnPremise Product      5931.14\n",
              "Partner - Cloud Product       -14956.47\n",
              "Partner - OnPremise Product     2824.15\n",
              "dtype: float64"
            ]
          },
          "metadata": {
            "tags": []
          },
          "execution_count": 82
        }
      ]
    },
    {
      "cell_type": "markdown",
      "metadata": {
        "id": "2Fb6LNDsXTCM",
        "colab_type": "text"
      },
      "source": [
        "With the new strategy, we need to increase the mean discount offered for all the types (Sales Channels and products) except for Partner Cloud Product. For Partner Cloud Product it seems that we need to decrease the discount from the current values.\n",
        "\n",
        "\n"
      ]
    }
  ]
}